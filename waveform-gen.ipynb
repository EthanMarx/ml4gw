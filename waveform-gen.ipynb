{
 "cells": [
  {
   "cell_type": "code",
   "execution_count": 11,
   "metadata": {},
   "outputs": [
    {
     "ename": "ModuleNotFoundError",
     "evalue": "No module named 'torchtyping'",
     "output_type": "error",
     "traceback": [
      "\u001b[0;31m---------------------------------------------------------------------------\u001b[0m",
      "\u001b[0;31mModuleNotFoundError\u001b[0m                       Traceback (most recent call last)",
      "Cell \u001b[0;32mIn[11], line 5\u001b[0m\n\u001b[1;32m      3\u001b[0m \u001b[39mfrom\u001b[39;00m \u001b[39mtyping\u001b[39;00m \u001b[39mimport\u001b[39;00m Iterable, Tuple, Callable\n\u001b[1;32m      4\u001b[0m \u001b[39mimport\u001b[39;00m \u001b[39mmath\u001b[39;00m\n\u001b[0;32m----> 5\u001b[0m \u001b[39mfrom\u001b[39;00m \u001b[39mml4gw\u001b[39;00m\u001b[39m.\u001b[39;00m\u001b[39mwaveforms\u001b[39;00m \u001b[39mimport\u001b[39;00m SineGaussian\n\u001b[1;32m      6\u001b[0m \u001b[39mfrom\u001b[39;00m \u001b[39mml4gw\u001b[39;00m\u001b[39m.\u001b[39;00m\u001b[39mdistributions\u001b[39;00m \u001b[39mimport\u001b[39;00m Uniform, LogUniform, Cosine\n\u001b[1;32m      7\u001b[0m \u001b[39mfrom\u001b[39;00m \u001b[39mml4gw\u001b[39;00m\u001b[39m.\u001b[39;00m\u001b[39mgw\u001b[39;00m \u001b[39mimport\u001b[39;00m compute_observed_strain\n",
      "File \u001b[0;32m~/forks/ml4gw/ml4gw/waveforms/__init__.py:1\u001b[0m\n\u001b[0;32m----> 1\u001b[0m \u001b[39mfrom\u001b[39;00m \u001b[39m.\u001b[39;00m\u001b[39msine_gaussian\u001b[39;00m \u001b[39mimport\u001b[39;00m SineGaussian\n",
      "File \u001b[0;32m~/forks/ml4gw/ml4gw/waveforms/sine_gaussian.py:4\u001b[0m\n\u001b[1;32m      1\u001b[0m \u001b[39mimport\u001b[39;00m \u001b[39mtorch\u001b[39;00m\n\u001b[1;32m      2\u001b[0m \u001b[39mfrom\u001b[39;00m \u001b[39mtorch\u001b[39;00m \u001b[39mimport\u001b[39;00m Tensor\n\u001b[0;32m----> 4\u001b[0m \u001b[39mfrom\u001b[39;00m \u001b[39mml4gw\u001b[39;00m\u001b[39m.\u001b[39;00m\u001b[39mtypes\u001b[39;00m \u001b[39mimport\u001b[39;00m ScalarTensor\n\u001b[1;32m      7\u001b[0m \u001b[39mdef\u001b[39;00m \u001b[39msemi_major_minor_from_e\u001b[39m(e: Tensor):\n\u001b[1;32m      8\u001b[0m     a \u001b[39m=\u001b[39m \u001b[39m1.0\u001b[39m \u001b[39m/\u001b[39m torch\u001b[39m.\u001b[39msqrt(\u001b[39m2.0\u001b[39m \u001b[39m-\u001b[39m (e \u001b[39m*\u001b[39m e))\n",
      "File \u001b[0;32m~/forks/ml4gw/ml4gw/types.py:1\u001b[0m\n\u001b[0;32m----> 1\u001b[0m \u001b[39mfrom\u001b[39;00m \u001b[39mtorchtyping\u001b[39;00m \u001b[39mimport\u001b[39;00m TensorType\n\u001b[1;32m      3\u001b[0m WaveformTensor \u001b[39m=\u001b[39m TensorType[\u001b[39m\"\u001b[39m\u001b[39mbatch\u001b[39m\u001b[39m\"\u001b[39m, \u001b[39m\"\u001b[39m\u001b[39mnum_ifos\u001b[39m\u001b[39m\"\u001b[39m, \u001b[39m\"\u001b[39m\u001b[39mtime\u001b[39m\u001b[39m\"\u001b[39m]\n\u001b[1;32m      4\u001b[0m PSDTensor \u001b[39m=\u001b[39m TensorType[\u001b[39m\"\u001b[39m\u001b[39mnum_ifos\u001b[39m\u001b[39m\"\u001b[39m, \u001b[39m\"\u001b[39m\u001b[39mfrequency\u001b[39m\u001b[39m\"\u001b[39m]\n",
      "\u001b[0;31mModuleNotFoundError\u001b[0m: No module named 'torchtyping'"
     ]
    }
   ],
   "source": [
    "import torch\n",
    "import numpy as np\n",
    "from typing import Iterable, Tuple, Callable\n",
    "import math\n",
    "from ml4gw.waveforms import SineGaussian\n",
    "from ml4gw.distributions import Uniform, LogUniform, Cosine\n",
    "from ml4gw.gw import compute_observed_strain"
   ]
  },
  {
   "attachments": {},
   "cell_type": "markdown",
   "metadata": {},
   "source": [
    "One of the easiest way to improve neural network performance is to provide more high quality data. Memory limitations often reduce the amount of data that can be utilized at training time. Consider the problem of training a neural network to detect sine-Gaussian signals in gravitational wave data. In this problem, memory limitations may reduce the number of waveforms/signals available to inject into data at training time. How can we get remove this constraint? One solution is to generate these signals on GPU during training, so that memory is only utilized as it is needed. "
   ]
  },
  {
   "cell_type": "code",
   "execution_count": null,
   "metadata": {},
   "outputs": [],
   "source": [
    "class ConvNet(torch.nn.Module):\n",
    "    def __init__(self):\n",
    "        pass"
   ]
  },
  {
   "cell_type": "code",
   "execution_count": 7,
   "metadata": {},
   "outputs": [
    {
     "ename": "NameError",
     "evalue": "name 'SineGaussian' is not defined",
     "output_type": "error",
     "traceback": [
      "\u001b[0;31m---------------------------------------------------------------------------\u001b[0m",
      "\u001b[0;31mNameError\u001b[0m                                 Traceback (most recent call last)",
      "Cell \u001b[0;32mIn[7], line 3\u001b[0m\n\u001b[1;32m      1\u001b[0m sample_rate \u001b[39m=\u001b[39m \u001b[39m2048\u001b[39m \n\u001b[1;32m      2\u001b[0m duration \u001b[39m=\u001b[39m \u001b[39m2\u001b[39m\n\u001b[0;32m----> 3\u001b[0m sine_gaussian \u001b[39m=\u001b[39m SineGaussian(sample_rate, duration)\n",
      "\u001b[0;31mNameError\u001b[0m: name 'SineGaussian' is not defined"
     ]
    }
   ],
   "source": [
    "sample_rate = 2048 \n",
    "duration = 2\n",
    "ifos = [\"H1\", \"L1\"]\n",
    "sine_gaussian = SineGaussian(sample_rate, duration)"
   ]
  },
  {
   "cell_type": "code",
   "execution_count": null,
   "metadata": {},
   "outputs": [],
   "source": [
    "prior = dict(\n",
    "    frequency = Uniform(32, 1024),\n",
    "    quality = Uniform(2, 108),\n",
    "    hrss = LogUniform(1e-23, 1e-20),\n",
    "    eccentricity = Uniform(0, 1),\n",
    "    phase = Uniform(0, np.pi)\n",
    ")\n",
    "\n",
    "dec = Cosine()\n",
    "psi = Uniform()\n",
    "phi = Uniform(-math.pi, math.pi)"
   ]
  },
  {
   "cell_type": "code",
   "execution_count": null,
   "metadata": {},
   "outputs": [],
   "source": [
    "class ParameterSampler(torch.nn.Module):\n",
    "    def __init__(self, **parameters: Callable):\n",
    "        self.params = parameters\n",
    "\n",
    "    def __call__(self, N: int):\n",
    "        samples = {}\n",
    "        for p, dist in self.params.items():\n",
    "            samples[p] = dist(N)\n",
    "        return samples\n",
    "\n",
    "parameter_sampler = ParameterSampler(**prior)"
   ]
  },
  {
   "cell_type": "code",
   "execution_count": null,
   "metadata": {},
   "outputs": [],
   "source": [
    "parameters = parameter_sampler(1000)\n",
    "cross, plus = sine_gaussian(**parameters)\n",
    "projected = compute_observed_strain(dec, psi, phi, tensors, vertices)"
   ]
  },
  {
   "cell_type": "code",
   "execution_count": null,
   "metadata": {},
   "outputs": [],
   "source": [
    "class FixedWaveformDataset:\n",
    "    def __init__(\n",
    "        self, \n",
    "        hanford: np.ndarray,\n",
    "        livingston: np.ndarray,\n",
    "        background: np.ndarray\n",
    "    ):\n",
    "        pass\n",
    "    \n",
    "    def __iter__(self):\n",
    "        pass\n",
    "\n",
    "    def __next__(self):\n",
    "        pass"
   ]
  },
  {
   "cell_type": "code",
   "execution_count": null,
   "metadata": {},
   "outputs": [],
   "source": [
    "def train_for_one_epoch(\n",
    "    dataset: Iterable[Tuple[np.ndarray, np.ndarray]],\n",
    "    model: torch.nn.Module,\n",
    "):\n",
    "    total_loss = 0\n",
    "    for X, y in dataset:\n",
    "        preds = model(X)\n",
    "        loss = torch.nn.functional.binary_cross_entropy(preds, y)\n",
    "        loss.backward()\n",
    "\n",
    "    total_loss += loss.item()\n",
    "\n",
    "    return total_loss\n",
    "\n",
    "\n"
   ]
  }
 ],
 "metadata": {
  "kernelspec": {
   "display_name": "ml4gw",
   "language": "python",
   "name": "python3"
  },
  "language_info": {
   "codemirror_mode": {
    "name": "ipython",
    "version": 3
   },
   "file_extension": ".py",
   "mimetype": "text/x-python",
   "name": "python",
   "nbconvert_exporter": "python",
   "pygments_lexer": "ipython3",
   "version": "3.9.16"
  },
  "orig_nbformat": 4
 },
 "nbformat": 4,
 "nbformat_minor": 2
}
