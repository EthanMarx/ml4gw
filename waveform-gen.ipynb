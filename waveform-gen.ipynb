{
 "cells": [
  {
   "cell_type": "code",
   "execution_count": 44,
   "metadata": {},
   "outputs": [],
   "source": [
    "import torch\n",
    "import numpy as np\n",
    "from typing import Iterable, Tuple, Callable\n",
    "import math\n",
    "from ml4gw.waveforms import SineGaussian\n",
    "from ml4gw.distributions import Uniform, LogUniform, Cosine\n",
    "from ml4gw.gw import compute_observed_strain, get_ifo_geometry\n",
    "from gwpy.timeseries import TimeSeriesDict, TimeSeries"
   ]
  },
  {
   "attachments": {},
   "cell_type": "markdown",
   "metadata": {},
   "source": [
    "One of the easiest way to improve neural network performance is to provide more high quality data. Memory limitations often reduce the amount of data that can be utilized at training time. Consider the problem of training a neural network to detect sine-Gaussian signals in gravitational wave data. In this problem, memory limitations may reduce the number of waveforms/signals available to inject into data at training time. How can we get remove this constraint? One solution is to generate these signals on GPU during training, so that memory is only utilized as it is needed. "
   ]
  },
  {
   "cell_type": "code",
   "execution_count": 45,
   "metadata": {},
   "outputs": [],
   "source": [
    "class ConvNet(torch.nn.Module):\n",
    "    def __init__(self):\n",
    "        torch.nn.Conv1d()\n",
    "        \n",
    "    def forward(self):\n",
    "        pass"
   ]
  },
  {
   "cell_type": "code",
   "execution_count": 46,
   "metadata": {},
   "outputs": [],
   "source": [
    "start = 1262653854\n",
    "stop = start + 1000\n",
    "sample_rate = 2048 \n",
    "kernel_length = 1\n",
    "ifos = [\"H1\", \"L1\"]\n",
    "channel = \"DCS-CALIB_STRAIN_CLEAN_C01\""
   ]
  },
  {
   "cell_type": "code",
   "execution_count": 47,
   "metadata": {},
   "outputs": [
    {
     "ename": "ModuleNotFoundError",
     "evalue": "No module named 'nds2'",
     "output_type": "error",
     "traceback": [
      "\u001b[0;31m---------------------------------------------------------------------------\u001b[0m",
      "\u001b[0;31mModuleNotFoundError\u001b[0m                       Traceback (most recent call last)",
      "Cell \u001b[0;32mIn[47], line 4\u001b[0m\n\u001b[1;32m      2\u001b[0m \u001b[39mfor\u001b[39;00m ifo \u001b[39min\u001b[39;00m ifos:\n\u001b[1;32m      3\u001b[0m     channel \u001b[39m=\u001b[39m \u001b[39mf\u001b[39m\u001b[39m\"\u001b[39m\u001b[39m{\u001b[39;00mifo\u001b[39m}\u001b[39;00m\u001b[39m:\u001b[39m\u001b[39m{\u001b[39;00mchannel\u001b[39m}\u001b[39;00m\u001b[39m\"\u001b[39m\n\u001b[0;32m----> 4\u001b[0m     background[ifo] \u001b[39m=\u001b[39m TimeSeries\u001b[39m.\u001b[39;49mfetch(channel, start, stop)\n",
      "File \u001b[0;32m~/miniconda3/envs/ml4gw-0oWCsmxr-py3.9/lib/python3.9/site-packages/gwpy/timeseries/core.py:376\u001b[0m, in \u001b[0;36mTimeSeriesBase.fetch\u001b[0;34m(cls, channel, start, end, host, port, verbose, connection, verify, pad, allow_tape, scaled, type, dtype)\u001b[0m\n\u001b[1;32m    329\u001b[0m \u001b[39m@classmethod\u001b[39m\n\u001b[1;32m    330\u001b[0m \u001b[39mdef\u001b[39;00m \u001b[39mfetch\u001b[39m(\u001b[39mcls\u001b[39m, channel, start, end, host\u001b[39m=\u001b[39m\u001b[39mNone\u001b[39;00m, port\u001b[39m=\u001b[39m\u001b[39mNone\u001b[39;00m, verbose\u001b[39m=\u001b[39m\u001b[39mFalse\u001b[39;00m,\n\u001b[1;32m    331\u001b[0m           connection\u001b[39m=\u001b[39m\u001b[39mNone\u001b[39;00m, verify\u001b[39m=\u001b[39m\u001b[39mFalse\u001b[39;00m, pad\u001b[39m=\u001b[39m\u001b[39mNone\u001b[39;00m, allow_tape\u001b[39m=\u001b[39m\u001b[39mNone\u001b[39;00m,\n\u001b[1;32m    332\u001b[0m           scaled\u001b[39m=\u001b[39m\u001b[39mNone\u001b[39;00m, \u001b[39mtype\u001b[39m\u001b[39m=\u001b[39m\u001b[39mNone\u001b[39;00m, dtype\u001b[39m=\u001b[39m\u001b[39mNone\u001b[39;00m):\n\u001b[1;32m    333\u001b[0m \u001b[39m    \u001b[39m\u001b[39m\"\"\"Fetch data from NDS\u001b[39;00m\n\u001b[1;32m    334\u001b[0m \n\u001b[1;32m    335\u001b[0m \u001b[39m    Parameters\u001b[39;00m\n\u001b[0;32m   (...)\u001b[0m\n\u001b[1;32m    374\u001b[0m \u001b[39m        identifier for desired output data type\u001b[39;00m\n\u001b[1;32m    375\u001b[0m \u001b[39m    \"\"\"\u001b[39;00m\n\u001b[0;32m--> 376\u001b[0m     \u001b[39mreturn\u001b[39;00m \u001b[39mcls\u001b[39;49m\u001b[39m.\u001b[39;49mDictClass\u001b[39m.\u001b[39;49mfetch(\n\u001b[1;32m    377\u001b[0m         [channel], start, end, host\u001b[39m=\u001b[39;49mhost, port\u001b[39m=\u001b[39;49mport, verbose\u001b[39m=\u001b[39;49mverbose,\n\u001b[1;32m    378\u001b[0m         connection\u001b[39m=\u001b[39;49mconnection, verify\u001b[39m=\u001b[39;49mverify, pad\u001b[39m=\u001b[39;49mpad, scaled\u001b[39m=\u001b[39;49mscaled,\n\u001b[1;32m    379\u001b[0m         allow_tape\u001b[39m=\u001b[39;49mallow_tape, \u001b[39mtype\u001b[39;49m\u001b[39m=\u001b[39;49m\u001b[39mtype\u001b[39;49m, dtype\u001b[39m=\u001b[39;49mdtype)[\u001b[39mstr\u001b[39m(channel)]\n",
      "File \u001b[0;32m~/miniconda3/envs/ml4gw-0oWCsmxr-py3.9/lib/python3.9/site-packages/gwpy/timeseries/core.py:1122\u001b[0m, in \u001b[0;36mTimeSeriesBaseDict.fetch\u001b[0;34m(cls, channels, start, end, host, port, verify, verbose, connection, pad, scaled, allow_tape, type, dtype)\u001b[0m\n\u001b[1;32m   1120\u001b[0m \u001b[39mfor\u001b[39;00m host_, port_ \u001b[39min\u001b[39;00m hostlist:\n\u001b[1;32m   1121\u001b[0m     \u001b[39mtry\u001b[39;00m:\n\u001b[0;32m-> 1122\u001b[0m         \u001b[39mreturn\u001b[39;00m \u001b[39mcls\u001b[39;49m\u001b[39m.\u001b[39;49mfetch(channels, start, end, host\u001b[39m=\u001b[39;49mhost_,\n\u001b[1;32m   1123\u001b[0m                          port\u001b[39m=\u001b[39;49mport_, verbose\u001b[39m=\u001b[39;49mverbose,\n\u001b[1;32m   1124\u001b[0m                          \u001b[39mtype\u001b[39;49m\u001b[39m=\u001b[39;49m\u001b[39mtype\u001b[39;49m, dtype\u001b[39m=\u001b[39;49mdtype, pad\u001b[39m=\u001b[39;49mpad,\n\u001b[1;32m   1125\u001b[0m                          scaled\u001b[39m=\u001b[39;49mscaled, allow_tape\u001b[39m=\u001b[39;49mallow_tape_)\n\u001b[1;32m   1126\u001b[0m     \u001b[39mexcept\u001b[39;00m (\u001b[39mRuntimeError\u001b[39;00m, \u001b[39mValueError\u001b[39;00m) \u001b[39mas\u001b[39;00m exc:\n\u001b[1;32m   1127\u001b[0m         error \u001b[39m=\u001b[39m \u001b[39mstr\u001b[39m(exc)  \u001b[39m# need to assign to take out of scope\u001b[39;00m\n",
      "File \u001b[0;32m~/miniconda3/envs/ml4gw-0oWCsmxr-py3.9/lib/python3.9/site-packages/gwpy/timeseries/core.py:1104\u001b[0m, in \u001b[0;36mTimeSeriesBaseDict.fetch\u001b[0;34m(cls, channels, start, end, host, port, verify, verbose, connection, pad, scaled, allow_tape, type, dtype)\u001b[0m\n\u001b[1;32m   1101\u001b[0m \u001b[39mif\u001b[39;00m connection \u001b[39mis\u001b[39;00m \u001b[39mNone\u001b[39;00m \u001b[39mand\u001b[39;00m host \u001b[39mis\u001b[39;00m \u001b[39mnot\u001b[39;00m \u001b[39mNone\u001b[39;00m:\n\u001b[1;32m   1102\u001b[0m     print_verbose(\u001b[39m\"\u001b[39m\u001b[39mOpening new connection to \u001b[39m\u001b[39m{0}\u001b[39;00m\u001b[39m...\u001b[39m\u001b[39m\"\u001b[39m\u001b[39m.\u001b[39mformat(host),\n\u001b[1;32m   1103\u001b[0m                   end\u001b[39m=\u001b[39m\u001b[39m'\u001b[39m\u001b[39m \u001b[39m\u001b[39m'\u001b[39m, verbose\u001b[39m=\u001b[39mverbose)\n\u001b[0;32m-> 1104\u001b[0m     connection \u001b[39m=\u001b[39m io_nds2\u001b[39m.\u001b[39;49mauth_connect(host, port)\n\u001b[1;32m   1105\u001b[0m     print_verbose(\u001b[39m'\u001b[39m\u001b[39mconnected\u001b[39m\u001b[39m'\u001b[39m, verbose\u001b[39m=\u001b[39mverbose)\n\u001b[1;32m   1106\u001b[0m \u001b[39m# otherwise cycle through connections in logical order\u001b[39;00m\n",
      "File \u001b[0;32m~/miniconda3/envs/ml4gw-0oWCsmxr-py3.9/lib/python3.9/site-packages/gwpy/io/nds2.py:340\u001b[0m, in \u001b[0;36mauth_connect\u001b[0;34m(host, port)\u001b[0m\n\u001b[1;32m    321\u001b[0m \u001b[39m\u001b[39m\u001b[39m\"\"\"Open an `nds2.connection` handling simple authentication errors\u001b[39;00m\n\u001b[1;32m    322\u001b[0m \n\u001b[1;32m    323\u001b[0m \u001b[39mThis method will catch exceptions related to kerberos authentication,\u001b[39;00m\n\u001b[0;32m   (...)\u001b[0m\n\u001b[1;32m    337\u001b[0m \u001b[39m    a new open connection to the given NDS host\u001b[39;00m\n\u001b[1;32m    338\u001b[0m \u001b[39m\"\"\"\u001b[39;00m\n\u001b[1;32m    339\u001b[0m \u001b[39mtry\u001b[39;00m:\n\u001b[0;32m--> 340\u001b[0m     \u001b[39mreturn\u001b[39;00m connect(host, port)\n\u001b[1;32m    341\u001b[0m \u001b[39mexcept\u001b[39;00m \u001b[39mRuntimeError\u001b[39;00m \u001b[39mas\u001b[39;00m exc:\n\u001b[1;32m    342\u001b[0m     \u001b[39mif\u001b[39;00m \u001b[39m'\u001b[39m\u001b[39mRequest SASL authentication\u001b[39m\u001b[39m'\u001b[39m \u001b[39mnot\u001b[39;00m \u001b[39min\u001b[39;00m \u001b[39mstr\u001b[39m(exc):\n",
      "File \u001b[0;32m~/miniconda3/envs/ml4gw-0oWCsmxr-py3.9/lib/python3.9/site-packages/gwpy/io/nds2.py:308\u001b[0m, in \u001b[0;36mconnect\u001b[0;34m(host, port)\u001b[0m\n\u001b[1;32m    292\u001b[0m \u001b[39mdef\u001b[39;00m \u001b[39mconnect\u001b[39m(host, port\u001b[39m=\u001b[39m\u001b[39mNone\u001b[39;00m):\n\u001b[1;32m    293\u001b[0m \u001b[39m    \u001b[39m\u001b[39m\"\"\"Open an `nds2.connection` to a given host and port\u001b[39;00m\n\u001b[1;32m    294\u001b[0m \n\u001b[1;32m    295\u001b[0m \u001b[39m    Parameters\u001b[39;00m\n\u001b[0;32m   (...)\u001b[0m\n\u001b[1;32m    306\u001b[0m \u001b[39m        a new open connection to the given NDS host\u001b[39;00m\n\u001b[1;32m    307\u001b[0m \u001b[39m    \"\"\"\u001b[39;00m\n\u001b[0;32m--> 308\u001b[0m     \u001b[39mimport\u001b[39;00m \u001b[39mnds2\u001b[39;00m\n\u001b[1;32m    309\u001b[0m     \u001b[39m# pylint: disable=no-member\u001b[39;00m\n\u001b[1;32m    310\u001b[0m \n\u001b[1;32m    311\u001b[0m     \u001b[39m# set default port for NDS1 connections (required, I think)\u001b[39;00m\n\u001b[1;32m    312\u001b[0m     \u001b[39mif\u001b[39;00m port \u001b[39mis\u001b[39;00m \u001b[39mNone\u001b[39;00m \u001b[39mand\u001b[39;00m NDS1_HOSTNAME\u001b[39m.\u001b[39mmatch(host):\n",
      "\u001b[0;31mModuleNotFoundError\u001b[0m: No module named 'nds2'"
     ]
    }
   ],
   "source": [
    "background = TimeSeriesDict()\n",
    "for ifo in ifos:\n",
    "    channel = f\"{ifo}:{channel}\"\n",
    "    background[ifo] = TimeSeries.fetch(channel, start, stop)"
   ]
  },
  {
   "cell_type": "code",
   "execution_count": null,
   "metadata": {},
   "outputs": [],
   "source": [
    "tensors, vertices = get_ifo_geometry(*ifos)\n",
    "sine_gaussian = SineGaussian(sample_rate, duration=1)"
   ]
  },
  {
   "cell_type": "code",
   "execution_count": 31,
   "metadata": {},
   "outputs": [],
   "source": [
    "prior = dict(\n",
    "    frequency = Uniform(32, 1024),\n",
    "    quality = Uniform(2, 108),\n",
    "    hrss = LogUniform(1e-23, 1e-20),\n",
    "    eccentricity = Uniform(0, 1),\n",
    "    phase = Uniform(0, np.pi)\n",
    ")\n",
    "\n",
    "dec = Cosine()\n",
    "psi = Uniform()\n",
    "phi = Uniform(-math.pi, math.pi)\n",
    "dec, psi, phi = dec(1000), psi(1000), phi(1000)"
   ]
  },
  {
   "cell_type": "code",
   "execution_count": 11,
   "metadata": {},
   "outputs": [],
   "source": [
    "class ParameterSampler(torch.nn.Module):\n",
    "    def __init__(self, **parameters: Callable):\n",
    "        self.params = parameters\n",
    "\n",
    "    def __call__(self, N: int):\n",
    "        samples = {}\n",
    "        for p, dist in self.params.items():\n",
    "            samples[p] = dist(N)\n",
    "        return samples\n",
    "\n",
    "parameter_sampler = ParameterSampler(**prior)"
   ]
  },
  {
   "cell_type": "code",
   "execution_count": 33,
   "metadata": {},
   "outputs": [],
   "source": [
    "parameters = parameter_sampler(1000)\n",
    "cross, plus = sine_gaussian(**parameters)\n",
    "cross, plus = cross.float(), plus.float()\n",
    "projected = compute_observed_strain(dec, psi, phi, tensors, vertices, sample_rate, cross=cross, plus=plus)"
   ]
  },
  {
   "cell_type": "code",
   "execution_count": null,
   "metadata": {},
   "outputs": [],
   "source": [
    "window_size = int(kernel_length * sample_rate)\n",
    "windows = background[::window_size]\n",
    "signals = windows + projected\n",
    "y = torch.concat(torch.zeros(len(windows)), torch.ones(len(signals)))\n",
    "training = torch.concat(windows, signals)"
   ]
  },
  {
   "cell_type": "code",
   "execution_count": 48,
   "metadata": {},
   "outputs": [],
   "source": [
    "dataset = torch.utils.data.TensorDataset(training, y)\n",
    "loader = torch.utils.data.DataLoader(dataset, batch_size=32, shuffle=True)"
   ]
  },
  {
   "cell_type": "code",
   "execution_count": null,
   "metadata": {},
   "outputs": [],
   "source": [
    "def train_for_one_epoch(\n",
    "    dataset: Iterable[Tuple[np.ndarray, np.ndarray]],\n",
    "    model: torch.nn.Module,\n",
    "):\n",
    "    total_loss = 0\n",
    "    for X, y in dataset:\n",
    "        preds = model(X)\n",
    "        loss = torch.nn.functional.binary_cross_entropy(preds, y)\n",
    "        loss.backward()\n",
    "\n",
    "    total_loss += loss.item()\n",
    "\n",
    "    return total_loss\n",
    "\n",
    "\n"
   ]
  }
 ],
 "metadata": {
  "kernelspec": {
   "display_name": "ml4gw",
   "language": "python",
   "name": "python3"
  },
  "language_info": {
   "codemirror_mode": {
    "name": "ipython",
    "version": 3
   },
   "file_extension": ".py",
   "mimetype": "text/x-python",
   "name": "python",
   "nbconvert_exporter": "python",
   "pygments_lexer": "ipython3",
   "version": "3.9.16"
  },
  "orig_nbformat": 4
 },
 "nbformat": 4,
 "nbformat_minor": 2
}
