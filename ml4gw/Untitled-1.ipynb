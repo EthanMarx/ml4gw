{
 "cells": [
  {
   "cell_type": "code",
   "execution_count": 7,
   "metadata": {},
   "outputs": [],
   "source": [
    "import pytest\n",
    "from gwpy.signal import filter_design as gwpy_filter_functions\n",
    "from gwpy.signal.window import planck as gwpy_planck\n",
    "import torch\n",
    "from ml4gw.utils.signal import fir_from_transfer, truncate_transfer, truncate_impulse, planck\n",
    "import numpy\n",
    "from scipy.special import expit\n",
    "import torch\n",
    "import matplotlib.pyplot as plt"
   ]
  },
  {
   "cell_type": "code",
   "execution_count": 12,
   "metadata": {},
   "outputs": [],
   "source": [
    "def truncate_transfer(transfer, ncorner):\n",
    "    out = transfer.clone()\n",
    "    if out.ndim == 1:\n",
    "        out = out[None, None, :]\n",
    "    nsamp = out.size(-1)\n",
    "    ncorner = ncorner if ncorner else 0\n",
    "    out[:, :, 0:ncorner] = 0\n",
    "    out[:, :, ncorner:nsamp] *= planck(nsamp-ncorner, nleft=5, nright=5)\n",
    "    return out"
   ]
  },
  {
   "cell_type": "code",
   "execution_count": 13,
   "metadata": {},
   "outputs": [],
   "source": [
    "def gwpy_truncate_transfer(transfer, ncorner):\n",
    "    nsamp = transfer.size\n",
    "    ncorner = ncorner if ncorner else 0\n",
    "    out = transfer.copy()\n",
    "    out[0:ncorner] = 0\n",
    "    out[ncorner:nsamp] *= gwpy_planck(nsamp-ncorner, nleft=5, nright=5)\n",
    "    return out"
   ]
  },
  {
   "cell_type": "code",
   "execution_count": 24,
   "metadata": {},
   "outputs": [
    {
     "name": "stdout",
     "output_type": "stream",
     "text": [
      "tensor([ 0.0000, -0.0000, -0.0076,  ...,  0.1152, -0.0452, -0.0000],\n",
      "       dtype=torch.float64) tensor([-0.4504, -0.0241, -0.3289,  ...,  0.3804, -1.9672, -0.2148],\n",
      "       dtype=torch.float64)\n",
      "[ 0.         -0.         -0.00755637  0.40629046 -0.48294599 -0.10396961\n",
      " -1.31099483  0.58930341 -1.71372864  2.13713926] [ 0.         -0.         -0.00755637  0.40629045 -0.482946   -0.10396961\n",
      " -1.31099483  0.58930341 -1.71372864  2.13713926] [-0.45044439 -0.02412568 -0.32886135  1.34115497 -0.69283346 -0.10641474\n",
      " -1.31099483  0.58930341 -1.71372864  2.13713926]\n",
      "[ 0.          0.         -0.02347598 -0.01824856  0.14787189  0.90895141\n",
      " -0.01652107  0.97560047  0.63175884  1.11458465] [ 0.          0.         -0.02347598 -0.01824856  0.14787189  0.90895139\n",
      " -0.01652107  0.97560047  0.63175884  1.11458465] [-3.14626452  0.45010345 -1.02170003 -0.06023806  0.21213675  0.93032788\n",
      " -0.01652107  0.97560047  0.63175884  1.11458465]\n",
      "[ 0.         -0.          0.00365961 -0.87106768  0.69752528 -0.0887617\n",
      " -0.81111557 -0.80495654 -1.08270823  1.33486923] [ 0.         -0.          0.00365961 -0.87106765  0.69752529 -0.0887617\n",
      " -0.81111557 -0.80495654 -1.08270823  1.33486923] [ 0.70760088 -1.24672496  0.15927033 -2.87537331  1.00066854 -0.09084917\n",
      " -0.81111557 -0.80495654 -1.08270823  1.33486923]\n",
      "[ 0.          0.          0.02118964 -0.03789257  0.49627482 -0.3420184\n",
      "  0.59596417 -0.24813877 -0.32068905 -1.91846122] [ 0.          0.          0.02118964 -0.03789257  0.49627483 -0.34201839\n",
      "  0.59596417 -0.24813877 -0.32068905 -1.91846122] [ 0.07038869  0.21725552  0.922196   -0.12508246  0.71195498 -0.35006189\n",
      "  0.59596417 -0.24813877 -0.32068905 -1.91846122]\n"
     ]
    }
   ],
   "source": [
    "test = torch.randn((2, 2, 2048), dtype=torch.float64)\n",
    "\n",
    "# calc with tensorized version\n",
    "transfer = truncate_transfer(test, 1)\n",
    "\n",
    "print(transfer[0][0], test[0][0] )\n",
    "test = test.reshape(-1, test.shape[-1])\n",
    "test_np = test.numpy().reshape(-1, test.shape[-1])\n",
    "transfer = transfer.numpy().reshape(-1, test.shape[-1])\n",
    "\n",
    "\n",
    "for tf, ts in zip(transfer, test_np):\n",
    "\n",
    "    gwpy_tf = gwpy_truncate_transfer(ts, 1)\n",
    "    print(tf[:10], gwpy_tf[:10], ts[:10])\n",
    "    assert numpy.allclose(tf, gwpy_tf)"
   ]
  },
  {
   "cell_type": "code",
   "execution_count": 17,
   "metadata": {},
   "outputs": [
    {
     "name": "stdout",
     "output_type": "stream",
     "text": [
      "tensor([[[ 0.4452, -0.4288, -1.3064,  ...,  0.3870,  0.2553, -0.1749],\n",
      "         [-0.9742,  0.5201,  1.1972,  ..., -0.5162,  1.0109,  1.8718]],\n",
      "\n",
      "        [[-1.3447,  1.1102, -0.1806,  ..., -1.2893,  0.5004,  2.3138],\n",
      "         [ 1.6388, -1.1230, -0.0433,  ..., -0.2150, -0.9436, -1.5279]]],\n",
      "       dtype=torch.float64)\n"
     ]
    }
   ],
   "source": [
    "test = torch.randn((2, 2, 2048), dtype=torch.float64)\n",
    "test.numpy()\n",
    "print(test)"
   ]
  },
  {
   "cell_type": "code",
   "execution_count": 33,
   "metadata": {},
   "outputs": [
    {
     "name": "stderr",
     "output_type": "stream",
     "text": [
      "/Users/ethanmarx/miniconda3/lib/python3.9/site-packages/torch/nn/functional.py:1967: UserWarning: nn.functional.sigmoid is deprecated. Use torch.sigmoid instead.\n",
      "  warnings.warn(\"nn.functional.sigmoid is deprecated. Use torch.sigmoid instead.\")\n"
     ]
    },
    {
     "data": {
      "text/plain": [
       "tensor(1.7768e-08, dtype=torch.float64)"
      ]
     },
     "execution_count": 33,
     "metadata": {},
     "output_type": "execute_result"
    }
   ],
   "source": [
    "max(planck(2048, nleft=5, nright=5) - gwpy_planck(2048, nleft=5, nright=5))"
   ]
  },
  {
   "cell_type": "code",
   "execution_count": 97,
   "metadata": {},
   "outputs": [
    {
     "data": {
      "text/plain": [
       "array([ True,  True,  True, ..., False, False,  True])"
      ]
     },
     "execution_count": 97,
     "metadata": {},
     "output_type": "execute_result"
    }
   ],
   "source": [
    "transfer_torch[0][1].numpy() == transfer_np"
   ]
  },
  {
   "cell_type": "code",
   "execution_count": 36,
   "metadata": {},
   "outputs": [
    {
     "data": {
      "text/plain": [
       "tensor(6.7115e-08, dtype=torch.float64)"
      ]
     },
     "execution_count": 36,
     "metadata": {},
     "output_type": "execute_result"
    }
   ],
   "source": [
    "torch.max(1.7768e-08 * test)"
   ]
  },
  {
   "cell_type": "code",
   "execution_count": 75,
   "metadata": {},
   "outputs": [],
   "source": [
    "\n",
    "test = numpy.random.normal(size=16)"
   ]
  },
  {
   "cell_type": "code",
   "execution_count": 31,
   "metadata": {},
   "outputs": [
    {
     "ename": "AttributeError",
     "evalue": "'Tensor' object has no attribute 'copy'",
     "output_type": "error",
     "traceback": [
      "\u001b[0;31m---------------------------------------------------------------------------\u001b[0m",
      "\u001b[0;31mAttributeError\u001b[0m                            Traceback (most recent call last)",
      "\u001b[1;32m/Users/ethanmarx/forks/ml4gw/ml4gw/Untitled-1.ipynb Cell 10\u001b[0m in \u001b[0;36m1\n\u001b[0;32m----> <a href='vscode-notebook-cell:/Users/ethanmarx/forks/ml4gw/ml4gw/Untitled-1.ipynb#X13sZmlsZQ%3D%3D?line=0'>1</a>\u001b[0m transfer \u001b[39m=\u001b[39m gwpy_truncate_transfer(test, \u001b[39m5\u001b[39;49m)\n\u001b[1;32m      <a href='vscode-notebook-cell:/Users/ethanmarx/forks/ml4gw/ml4gw/Untitled-1.ipynb#X13sZmlsZQ%3D%3D?line=1'>2</a>\u001b[0m ml4gw \u001b[39m=\u001b[39m truncate_transfer(torch\u001b[39m.\u001b[39mtensor(test), \u001b[39m5\u001b[39m)\n\u001b[1;32m      <a href='vscode-notebook-cell:/Users/ethanmarx/forks/ml4gw/ml4gw/Untitled-1.ipynb#X13sZmlsZQ%3D%3D?line=2'>3</a>\u001b[0m \u001b[39mprint\u001b[39m(transfer, ml4gw)\n",
      "\u001b[1;32m/Users/ethanmarx/forks/ml4gw/ml4gw/Untitled-1.ipynb Cell 10\u001b[0m in \u001b[0;36m4\n\u001b[1;32m      <a href='vscode-notebook-cell:/Users/ethanmarx/forks/ml4gw/ml4gw/Untitled-1.ipynb#X13sZmlsZQ%3D%3D?line=1'>2</a>\u001b[0m nsamp \u001b[39m=\u001b[39m transfer\u001b[39m.\u001b[39msize\n\u001b[1;32m      <a href='vscode-notebook-cell:/Users/ethanmarx/forks/ml4gw/ml4gw/Untitled-1.ipynb#X13sZmlsZQ%3D%3D?line=2'>3</a>\u001b[0m ncorner \u001b[39m=\u001b[39m ncorner \u001b[39mif\u001b[39;00m ncorner \u001b[39melse\u001b[39;00m \u001b[39m0\u001b[39m\n\u001b[0;32m----> <a href='vscode-notebook-cell:/Users/ethanmarx/forks/ml4gw/ml4gw/Untitled-1.ipynb#X13sZmlsZQ%3D%3D?line=3'>4</a>\u001b[0m out \u001b[39m=\u001b[39m transfer\u001b[39m.\u001b[39;49mcopy()\n\u001b[1;32m      <a href='vscode-notebook-cell:/Users/ethanmarx/forks/ml4gw/ml4gw/Untitled-1.ipynb#X13sZmlsZQ%3D%3D?line=4'>5</a>\u001b[0m out[\u001b[39m0\u001b[39m:ncorner] \u001b[39m=\u001b[39m \u001b[39m0\u001b[39m\n\u001b[1;32m      <a href='vscode-notebook-cell:/Users/ethanmarx/forks/ml4gw/ml4gw/Untitled-1.ipynb#X13sZmlsZQ%3D%3D?line=5'>6</a>\u001b[0m out[ncorner:nsamp] \u001b[39m*\u001b[39m\u001b[39m=\u001b[39m gwpy_planck(nsamp\u001b[39m-\u001b[39mncorner, nleft\u001b[39m=\u001b[39m\u001b[39m5\u001b[39m, nright\u001b[39m=\u001b[39m\u001b[39m5\u001b[39m)\n",
      "\u001b[0;31mAttributeError\u001b[0m: 'Tensor' object has no attribute 'copy'"
     ]
    }
   ],
   "source": [
    "transfer = gwpy_truncate_transfer(test, 5)\n",
    "ml4gw = truncate_transfer(torch.tensor(test), 5)\n",
    "print(transfer, ml4gw)"
   ]
  },
  {
   "cell_type": "code",
   "execution_count": 24,
   "metadata": {},
   "outputs": [],
   "source": [
    "x = torch.arange(5, dtype=torch.float64) / 3."
   ]
  },
  {
   "cell_type": "code",
   "execution_count": 48,
   "metadata": {},
   "outputs": [
    {
     "data": {
      "text/plain": [
       "1"
      ]
     },
     "execution_count": 48,
     "metadata": {},
     "output_type": "execute_result"
    }
   ],
   "source": [
    "torch.tensor(transfer).ndim"
   ]
  },
  {
   "cell_type": "code",
   "execution_count": 32,
   "metadata": {},
   "outputs": [
    {
     "name": "stdout",
     "output_type": "stream",
     "text": [
      "tensor([[[-0.8809, -0.2007,  1.1422,  ...,  1.8458, -0.3942, -0.6924],\n",
      "         [-0.3670,  0.8146,  0.7530,  ..., -2.0083,  0.4756,  1.9663]],\n",
      "\n",
      "        [[-0.9085, -0.5841, -0.7540,  ...,  0.2322,  2.2528, -1.9509],\n",
      "         [-0.5257, -0.2869, -0.1822,  ...,  0.3735, -0.7505,  1.0400]]],\n",
      "       dtype=torch.float64)\n",
      "tensor([[[-0.8809, -0.2007,  1.1422,  ...,  1.8458, -0.3942, -0.6924],\n",
      "         [-0.3670,  0.8146,  0.7530,  ..., -2.0083,  0.4756,  1.9663]],\n",
      "\n",
      "        [[-0.9085, -0.5841, -0.7540,  ...,  0.2322,  2.2528, -1.9509],\n",
      "         [-0.5257, -0.2869, -0.1822,  ...,  0.3735, -0.7505,  1.0400]]],\n",
      "       dtype=torch.float64)\n"
     ]
    }
   ],
   "source": [
    "test = torch.randn((2, 2, 2048), dtype=torch.float64)\n",
    "\n",
    "print(test)\n",
    "transfer = truncate_transfer(test, 1)\n",
    "\n",
    "print(test)"
   ]
  },
  {
   "cell_type": "code",
   "execution_count": 43,
   "metadata": {},
   "outputs": [],
   "source": [
    "test = numpy.random.normal(size=1024)\n",
    "def gwpy_truncate_transfer(transfer, ncorner):\n",
    "    nsamp = transfer.size\n",
    "    ncorner = ncorner if ncorner else 0\n",
    "    out = transfer.copy()\n",
    "    print(numpy.max(transfer - out))\n",
    "    out[0:ncorner] = 0\n",
    "    out[ncorner:nsamp] *= gwpy_planck(nsamp-ncorner, nleft=5, nright=5)\n",
    "\n",
    "    transfer[0:ncorner] = 0\n",
    "    transfer[ncorner:nsamp] *= gwpy_planck(nsamp-ncorner, nleft=5, nright=5)\n",
    "    return out, transfer"
   ]
  },
  {
   "cell_type": "code",
   "execution_count": 44,
   "metadata": {},
   "outputs": [
    {
     "name": "stdout",
     "output_type": "stream",
     "text": [
      "0.0\n"
     ]
    }
   ],
   "source": [
    "out, transfer = gwpy_truncate_transfer(test, 1)"
   ]
  },
  {
   "cell_type": "code",
   "execution_count": 46,
   "metadata": {},
   "outputs": [
    {
     "name": "stdout",
     "output_type": "stream",
     "text": [
      "0.0\n"
     ]
    }
   ],
   "source": [
    "print(numpy.max(out - transfer))"
   ]
  },
  {
   "cell_type": "code",
   "execution_count": 47,
   "metadata": {},
   "outputs": [
    {
     "data": {
      "text/plain": [
       "dtype('float64')"
      ]
     },
     "execution_count": 47,
     "metadata": {},
     "output_type": "execute_result"
    }
   ],
   "source": [
    "test.dtype"
   ]
  },
  {
   "cell_type": "code",
   "execution_count": 38,
   "metadata": {},
   "outputs": [],
   "source": [
    "test = torch.randn((1, 1, 1024))\n",
    "def aug(t):\n",
    "    clone = t.clone()\n",
    "    clone[0, 0] = 0\n",
    "    return clone"
   ]
  },
  {
   "cell_type": "code",
   "execution_count": 39,
   "metadata": {},
   "outputs": [
    {
     "name": "stdout",
     "output_type": "stream",
     "text": [
      "tensor([[[ 0.5516,  1.2605, -1.7542,  ..., -0.7298,  0.3461,  0.2546]]])\n",
      "tensor([[[ 0.0000,  0.0290, -0.5314,  ..., -0.2211,  0.0080,  0.0000]]])\n",
      "tensor([[[ 0.0000,  0.0290, -0.5314,  ..., -0.2211,  0.0080,  0.0000]]])\n"
     ]
    },
    {
     "name": "stderr",
     "output_type": "stream",
     "text": [
      "/Users/ethanmarx/miniconda3/lib/python3.9/site-packages/torch/nn/functional.py:1967: UserWarning: nn.functional.sigmoid is deprecated. Use torch.sigmoid instead.\n",
      "  warnings.warn(\"nn.functional.sigmoid is deprecated. Use torch.sigmoid instead.\")\n"
     ]
    }
   ],
   "source": [
    "import ml4gw\n",
    "print(test)\n",
    "print(ml4gw.utils.signal.truncate_transfer(test, 0))\n",
    "print(test)"
   ]
  },
  {
   "cell_type": "code",
   "execution_count": null,
   "metadata": {},
   "outputs": [],
   "source": []
  }
 ],
 "metadata": {
  "kernelspec": {
   "display_name": "base",
   "language": "python",
   "name": "python3"
  },
  "language_info": {
   "codemirror_mode": {
    "name": "ipython",
    "version": 3
   },
   "file_extension": ".py",
   "mimetype": "text/x-python",
   "name": "python",
   "nbconvert_exporter": "python",
   "pygments_lexer": "ipython3",
   "version": "3.9.12"
  },
  "orig_nbformat": 4
 },
 "nbformat": 4,
 "nbformat_minor": 2
}
